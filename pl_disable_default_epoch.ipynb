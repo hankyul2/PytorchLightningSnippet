{
 "cells": [
  {
   "cell_type": "markdown",
   "id": "e9a5b445",
   "metadata": {},
   "source": [
    "## Disable automatically writing epoch variable\n",
    "\n",
    "- This is written to understand how to disable automatically writing epoch variable.\n",
    "- In addition, `default_hp_metric=False` is also set to manually controll hp_metrics.\n"
   ]
  },
  {
   "cell_type": "markdown",
   "id": "c0648d23",
   "metadata": {},
   "source": [
    "## 1. Import Library"
   ]
  },
  {
   "cell_type": "code",
   "execution_count": 19,
   "id": "bf2bd855",
   "metadata": {},
   "outputs": [],
   "source": [
    "import os\n",
    "from copy import deepcopy\n",
    "\n",
    "import torch\n",
    "from torch import nn\n",
    "from torch.optim import SGD\n",
    "from torch.utils.data import DataLoader\n",
    "\n",
    "from torchvision import models, transforms\n",
    "from torchvision.datasets import CIFAR10\n",
    "\n",
    "from pytorch_lightning import LightningModule, LightningDataModule, Trainer, loggers\n",
    "from pytorch_lightning.utilities import rank_zero_only\n",
    "from torchmetrics import Accuracy, MetricCollection\n",
    "\n",
    "os.environ['CUDA_DEVICE_ORDER'] = 'PCI_BUS_ID'"
   ]
  },
  {
   "cell_type": "markdown",
   "id": "ba8baf64",
   "metadata": {},
   "source": [
    "## 2. Define dataloader "
   ]
  },
  {
   "cell_type": "code",
   "execution_count": 20,
   "id": "cfdf9f4c",
   "metadata": {},
   "outputs": [],
   "source": [
    "class CIFAR(LightningDataModule):\n",
    "    def __init__(self, img_size=32, batch_size=32):\n",
    "        super().__init__()\n",
    "        self.img_size = img_size if isinstance(img_size, tuple) else (img_size, img_size)\n",
    "        self.batch_size = batch_size\n",
    "        self.train_transforms = transforms.Compose([\n",
    "            transforms.Resize(self.img_size),\n",
    "            transforms.Pad(4, padding_mode='reflect'),\n",
    "            transforms.RandomCrop(self.img_size),\n",
    "            transforms.RandomHorizontalFlip(),\n",
    "            transforms.ToTensor(),\n",
    "            transforms.Normalize(mean=(0.5, 0.5, 0.5), std=(0.5, 0.5, 0.5))\n",
    "        ])\n",
    "\n",
    "        self.test_transforms = transforms.Compose([\n",
    "            transforms.Resize(self.img_size),\n",
    "            transforms.CenterCrop(self.img_size),\n",
    "            transforms.ToTensor(),\n",
    "            transforms.Normalize(mean=(0.5, 0.5, 0.5), std=(0.5, 0.5, 0.5))\n",
    "        ])\n",
    "\n",
    "    def prepare_data(self) -> None:\n",
    "        CIFAR10(root='data', train=True, download=True)\n",
    "        CIFAR10(root='data', train=False, download=True)\n",
    "    \n",
    "    def setup(self, stage=None):\n",
    "        self.train_ds = CIFAR10(root='data', train=True, download=False, transform=self.train_transforms)\n",
    "        self.valid_ds = CIFAR10(root='data', train=False, download=False, transform=self.test_transforms)\n",
    "\n",
    "    def train_dataloader(self):\n",
    "        return DataLoader(self.train_ds, num_workers=4, batch_size=self.batch_size, shuffle=True)\n",
    "\n",
    "    def val_dataloader(self):\n",
    "        return DataLoader(self.valid_ds, num_workers=4, batch_size=self.batch_size, shuffle=False)"
   ]
  },
  {
   "cell_type": "markdown",
   "id": "4194e991",
   "metadata": {},
   "source": [
    "## 3. Define Model & Tensorboard Logger"
   ]
  },
  {
   "cell_type": "code",
   "execution_count": 21,
   "id": "ae111c90",
   "metadata": {},
   "outputs": [],
   "source": [
    "class TBLogger(loggers.TensorBoardLogger):\n",
    "    @rank_zero_only\n",
    "    def log_metrics(self, metrics, step):\n",
    "        metrics.pop('epoch', None)\n",
    "        return super().log_metrics(metrics, step)\n",
    "\n",
    "\n",
    "class BasicModule(LightningModule):\n",
    "    def __init__(self, lr=0.01):\n",
    "        super().__init__()\n",
    "        self.model = models.resnet18(pretrained=False)\n",
    "        self.criterion = nn.CrossEntropyLoss()\n",
    "        self.lr = lr\n",
    "        self.save_hyperparameters()\n",
    "        \n",
    "        metric = MetricCollection({'top@1': Accuracy(top_k=1), 'top@5': Accuracy(top_k=5)})\n",
    "        self.train_metric = metric.clone(prefix='train/')\n",
    "        self.valid_metric = metric.clone(prefix='valid/')\n",
    "    \n",
    "    def on_train_start(self) -> None:\n",
    "        self.logger.log_hyperparams(self.hparams, {'train/top@1': 0, 'train/top@5': 0, 'valid/top@1': 0, 'valid/top@5': 0})\n",
    "        return super().on_train_start()\n",
    "    \n",
    "    def training_step(self, batch, batch_idx, optimizer_idx=None):\n",
    "        return self.shared_step(*batch, self.train_metric)\n",
    "\n",
    "    def validation_step(self, batch, batch_idx):\n",
    "        return self.shared_step(*batch, self.valid_metric)\n",
    "\n",
    "    def shared_step(self, x, y, metric):\n",
    "        y_hat = self.model(x)\n",
    "        loss = self.criterion(y_hat, y)\n",
    "        self.log_dict(metric(y_hat, y), prog_bar=True)\n",
    "        return loss\n",
    "\n",
    "    def configure_optimizers(self):\n",
    "        return SGD(self.model.parameters(), lr=self.lr)"
   ]
  },
  {
   "cell_type": "markdown",
   "id": "97218c1b",
   "metadata": {},
   "source": [
    "## 4. Train only 2 epoch"
   ]
  },
  {
   "cell_type": "code",
   "execution_count": 18,
   "id": "cfb057e2",
   "metadata": {},
   "outputs": [
    {
     "name": "stderr",
     "output_type": "stream",
     "text": [
      "Using 16bit native Automatic Mixed Precision (AMP)\n",
      "GPU available: True, used: True\n",
      "TPU available: False, using: 0 TPU cores\n",
      "IPU available: False, using: 0 IPUs\n"
     ]
    },
    {
     "name": "stdout",
     "output_type": "stream",
     "text": [
      "Files already downloaded and verified\n",
      "Files already downloaded and verified\n"
     ]
    },
    {
     "name": "stderr",
     "output_type": "stream",
     "text": [
      "LOCAL_RANK: 0 - CUDA_VISIBLE_DEVICES: [0,1,2,3,4,5,6,7,8]\n",
      "\n",
      "  | Name         | Type             | Params\n",
      "--------------------------------------------------\n",
      "0 | model        | ResNet           | 11.7 M\n",
      "1 | criterion    | CrossEntropyLoss | 0     \n",
      "2 | train_metric | MetricCollection | 0     \n",
      "3 | valid_metric | MetricCollection | 0     \n",
      "--------------------------------------------------\n",
      "11.7 M    Trainable params\n",
      "0         Non-trainable params\n",
      "11.7 M    Total params\n",
      "23.379    Total estimated model params size (MB)\n"
     ]
    },
    {
     "data": {
      "application/vnd.jupyter.widget-view+json": {
       "model_id": "7393dcfc784d420497776ac0eefcf1ff",
       "version_major": 2,
       "version_minor": 0
      },
      "text/plain": [
       "Validation sanity check: 0it [00:00, ?it/s]"
      ]
     },
     "metadata": {},
     "output_type": "display_data"
    },
    {
     "data": {
      "application/vnd.jupyter.widget-view+json": {
       "model_id": "222082ff94854d21a6e2f868d270259d",
       "version_major": 2,
       "version_minor": 0
      },
      "text/plain": [
       "Training: 0it [00:00, ?it/s]"
      ]
     },
     "metadata": {},
     "output_type": "display_data"
    },
    {
     "data": {
      "application/vnd.jupyter.widget-view+json": {
       "model_id": "84d1928b6ec94e419acf61d61655d7b8",
       "version_major": 2,
       "version_minor": 0
      },
      "text/plain": [
       "Validating: 0it [00:00, ?it/s]"
      ]
     },
     "metadata": {},
     "output_type": "display_data"
    },
    {
     "data": {
      "application/vnd.jupyter.widget-view+json": {
       "model_id": "ed851010015848fe8fcc64df0d337c16",
       "version_major": 2,
       "version_minor": 0
      },
      "text/plain": [
       "Validating: 0it [00:00, ?it/s]"
      ]
     },
     "metadata": {},
     "output_type": "display_data"
    }
   ],
   "source": [
    "data = CIFAR(batch_size=512)\n",
    "model = BasicModule(lr=0.01)\n",
    "logger = TBLogger('', 'lightning_logs', default_hp_metric=False)\n",
    "trainer = Trainer(max_epochs=2, gpus='0,', logger=logger, precision=16)\n",
    "trainer.fit(model, data)"
   ]
  },
  {
   "cell_type": "code",
   "execution_count": null,
   "id": "ca82adc7",
   "metadata": {},
   "outputs": [],
   "source": []
  }
 ],
 "metadata": {
  "kernelspec": {
   "display_name": "Python 3 (ipykernel)",
   "language": "python",
   "name": "python3"
  },
  "language_info": {
   "codemirror_mode": {
    "name": "ipython",
    "version": 3
   },
   "file_extension": ".py",
   "mimetype": "text/x-python",
   "name": "python",
   "nbconvert_exporter": "python",
   "pygments_lexer": "ipython3",
   "version": "3.7.11"
  }
 },
 "nbformat": 4,
 "nbformat_minor": 5
}
